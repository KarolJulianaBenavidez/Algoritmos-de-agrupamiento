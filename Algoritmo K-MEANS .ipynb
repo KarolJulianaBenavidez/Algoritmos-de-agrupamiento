{
 "cells": [
  {
   "cell_type": "markdown",
   "id": "3940bb4e",
   "metadata": {},
   "source": [
    "# K-MEANS"
   ]
  },
  {
   "cell_type": "markdown",
   "id": "9eed6529",
   "metadata": {},
   "source": [
    "### Librería y datos"
   ]
  },
  {
   "cell_type": "code",
   "execution_count": 31,
   "id": "51805ebb",
   "metadata": {},
   "outputs": [],
   "source": [
    "#Librerias a importar\n",
    "import numpy as np\n",
    "import pandas as pd\n",
    "import seaborn as sns\n",
    "import matplotlib.pyplot as plt\n",
    "from sklearn.cluster import KMeans\n",
    "from sklearn.decomposition import PCA\n",
    "from sklearn import preprocessing"
   ]
  },
  {
   "cell_type": "code",
   "execution_count": 34,
   "id": "33fc8e23",
   "metadata": {},
   "outputs": [],
   "source": [
    "#Importar variables en df\n",
    "data = pd.read_excel(\"C:/Users/A00836554/Desktop/Data/PREPROCESAMIENTO/K-means/2015.xlsx\")\n",
    "df = pd.DataFrame(data)"
   ]
  },
  {
   "cell_type": "code",
   "execution_count": 35,
   "id": "5f3a17f5",
   "metadata": {},
   "outputs": [
    {
     "data": {
      "text/plain": [
       "(86, 36)"
      ]
     },
     "execution_count": 35,
     "metadata": {},
     "output_type": "execute_result"
    }
   ],
   "source": [
    "#Cantidad de variables y observaciones por grupo de datos\n",
    "df.shape"
   ]
  },
  {
   "cell_type": "markdown",
   "id": "24d2a7e0",
   "metadata": {},
   "source": [
    "## Codo de jambu\n",
    "### Busqueda de la cantidad de clusters optimos a formar"
   ]
  },
  {
   "cell_type": "code",
   "execution_count": 36,
   "id": "46c5664c",
   "metadata": {},
   "outputs": [
    {
     "name": "stderr",
     "output_type": "stream",
     "text": [
      "C:\\Users\\A00836554\\Anaconda3\\lib\\site-packages\\sklearn\\cluster\\_kmeans.py:881: UserWarning: KMeans is known to have a memory leak on Windows with MKL, when there are less chunks than available threads. You can avoid it by setting the environment variable OMP_NUM_THREADS=1.\n",
      "  warnings.warn(\n"
     ]
    }
   ],
   "source": [
    "wcss = [] #lista vacía que va almacenando los valores de los errores que se van calculando\n",
    "\n",
    "for i in range(1,11): #bucle que asigna valores a la variables i en un rango de 1 a 11 (grafica 10)\n",
    "  kmeans = KMeans(n_clusters = i, max_iter=300, init ='k-means++') #se crea modelo con el metodo kmean y se indica que la cantidad de clusters cambia con i; 300 iteraciones\n",
    "  kmeans.fit(df) #aplicacion del modelo kmean a las caracteristicas normalizadas\n",
    "  wcss.append(kmeans.inertia_) #se agrega el valor de wscc a la lista "
   ]
  },
  {
   "cell_type": "code",
   "execution_count": 37,
   "id": "29af4b95",
   "metadata": {},
   "outputs": [
    {
     "data": {
      "text/plain": [
       "[2.757052975685587e+20,\n",
       " 3.128806258034218e+19,\n",
       " 6.767759688960824e+18,\n",
       " 2.2022955546185966e+18,\n",
       " 1.1096190700460169e+18,\n",
       " 6.086778727603988e+17,\n",
       " 4.3721060630886803e+17,\n",
       " 3.024153251766622e+17,\n",
       " 1.9727342550413306e+17,\n",
       " 1.5748024609614896e+17]"
      ]
     },
     "execution_count": 37,
     "metadata": {},
     "output_type": "execute_result"
    }
   ],
   "source": [
    "wcss"
   ]
  },
  {
   "cell_type": "code",
   "execution_count": 77,
   "id": "50a51632",
   "metadata": {},
   "outputs": [
    {
     "data": {
      "image/png": "[encoded data removed]",
      "text/plain": [
       "<Figure size 576x432 with 1 Axes>"
      ]
     },
     "metadata": {
      "needs_background": "light"
     },
     "output_type": "display_data"
    },
    {
     "data": {
      "text/plain": [
       "<Figure size 432x288 with 0 Axes>"
      ]
     },
     "metadata": {},
     "output_type": "display_data"
    }
   ],
   "source": [
    "# Graficar codo\n",
    "plt.figure(figsize=(8,6))\n",
    "plt.plot(range(1,11) , wcss) \n",
    "plt.title(\"Diagrama de codo 2015\")\n",
    "plt.xlabel(\"Número de clusters\")\n",
    "plt.ylabel(\"wcss\")\n",
    "plt.show()\n",
    "plt.savefig(\"C:/Users/A00836554/Desktop/Data/PREPROCESAMIENTO/K-means/Figuras/Diagrama_2015.jpg\")"
   ]
  },
  {
   "cell_type": "markdown",
   "id": "fbd6d7db",
   "metadata": {},
   "source": [
    "Según el grafico anterior la cantidad optima de clusteres a formar son 3, ya que en este número la línea deja de disminuir drasticamente"
   ]
  },
  {
   "cell_type": "markdown",
   "id": "3afdad53",
   "metadata": {},
   "source": [
    "### Evaluar cantidad de variables a agrupar y cantidad de clusteres a formar"
   ]
  },
  {
   "cell_type": "code",
   "execution_count": 39,
   "id": "42305bbb",
   "metadata": {},
   "outputs": [],
   "source": [
    "def k_means(k,i):\n",
    "    \"\"\"k = cantidad de clusteres\n",
    "       i = cantidad de variables\"\"\"\n",
    "       \n",
    "    df_n = df[df.columns[0:i]] #se crea df_n\n",
    "    scaler = preprocessing.StandardScaler()\n",
    "    Df = scaler.fit_transform(df_n) #Normaliza df_n\n",
    "    \n",
    "    kmeans = KMeans(n_clusters = k, init = 'random', max_iter = 150, n_init = 20, random_state = 0) #Criterios de la agrupación\n",
    "    kmeans.fit(Df) # entrenar el modelo con los datos normalziados\n",
    "    centroides, etiquetas = kmeans.cluster_centers_, kmeans.labels_\n",
    "    \n",
    "    etiquetas = pd.Series(etiquetas)\n",
    "    \n",
    "    return (etiquetas.value_counts(normalize=True))"
   ]
  },
  {
   "cell_type": "code",
   "execution_count": 30,
   "id": "b8791f7a",
   "metadata": {},
   "outputs": [
    {
     "name": "stdout",
     "output_type": "stream",
     "text": [
      "Número de variables 5\n",
      "0    0.767442\n",
      "2    0.197674\n",
      "1    0.034884\n",
      "dtype: float64\n",
      "Número de variables 6\n",
      "0    0.767442\n",
      "2    0.197674\n",
      "1    0.034884\n",
      "dtype: float64\n",
      "Número de variables 7\n",
      "0    0.767442\n",
      "1    0.197674\n",
      "2    0.034884\n",
      "dtype: float64\n",
      "Número de variables 8\n",
      "0    0.767442\n",
      "1    0.197674\n",
      "2    0.034884\n",
      "dtype: float64\n",
      "Número de variables 9\n",
      "0    0.767442\n",
      "1    0.197674\n",
      "2    0.034884\n",
      "dtype: float64\n",
      "Número de variables 10\n",
      "0    0.767442\n",
      "1    0.197674\n",
      "2    0.034884\n",
      "dtype: float64\n",
      "Número de variables 11\n",
      "0    0.767442\n",
      "2    0.197674\n",
      "1    0.034884\n",
      "dtype: float64\n",
      "Número de variables 12\n",
      "0    0.767442\n",
      "2    0.197674\n",
      "1    0.034884\n",
      "dtype: float64\n",
      "Número de variables 13\n",
      "0    0.767442\n",
      "2    0.197674\n",
      "1    0.034884\n",
      "dtype: float64\n",
      "Número de variables 14\n",
      "0    0.767442\n",
      "2    0.197674\n",
      "1    0.034884\n",
      "dtype: float64\n",
      "Número de variables 15\n",
      "0    0.767442\n",
      "2    0.197674\n",
      "1    0.034884\n",
      "dtype: float64\n",
      "Número de variables 16\n",
      "0    0.790698\n",
      "1    0.174419\n",
      "2    0.034884\n",
      "dtype: float64\n",
      "Número de variables 17\n",
      "0    0.953488\n",
      "1    0.034884\n",
      "2    0.011628\n",
      "dtype: float64\n",
      "Número de variables 18\n",
      "2    0.953488\n",
      "1    0.034884\n",
      "0    0.011628\n",
      "dtype: float64\n",
      "Número de variables 19\n",
      "2    0.953488\n",
      "1    0.034884\n",
      "0    0.011628\n",
      "dtype: float64\n",
      "Número de variables 20\n",
      "2    0.953488\n",
      "1    0.034884\n",
      "0    0.011628\n",
      "dtype: float64\n",
      "Número de variables 21\n",
      "2    0.953488\n",
      "1    0.034884\n",
      "0    0.011628\n",
      "dtype: float64\n",
      "Número de variables 22\n",
      "2    0.953488\n",
      "1    0.034884\n",
      "0    0.011628\n",
      "dtype: float64\n",
      "Número de variables 23\n",
      "2    0.953488\n",
      "1    0.034884\n",
      "0    0.011628\n",
      "dtype: float64\n",
      "Número de variables 24\n",
      "2    0.697674\n",
      "1    0.267442\n",
      "0    0.034884\n",
      "dtype: float64\n",
      "Número de variables 25\n",
      "2    0.674419\n",
      "1    0.290698\n",
      "0    0.034884\n",
      "dtype: float64\n",
      "Número de variables 26\n",
      "2    0.674419\n",
      "1    0.290698\n",
      "0    0.034884\n",
      "dtype: float64\n",
      "Número de variables 27\n",
      "2    0.674419\n",
      "1    0.290698\n",
      "0    0.034884\n",
      "dtype: float64\n",
      "Número de variables 28\n",
      "2    0.674419\n",
      "1    0.290698\n",
      "0    0.034884\n",
      "dtype: float64\n",
      "Número de variables 29\n",
      "2    0.662791\n",
      "1    0.302326\n",
      "0    0.034884\n",
      "dtype: float64\n",
      "Número de variables 30\n",
      "2    0.662791\n",
      "1    0.302326\n",
      "0    0.034884\n",
      "dtype: float64\n",
      "Número de variables 31\n",
      "2    0.662791\n",
      "1    0.302326\n",
      "0    0.034884\n",
      "dtype: float64\n",
      "Número de variables 32\n",
      "2    0.662791\n",
      "1    0.302326\n",
      "0    0.034884\n",
      "dtype: float64\n",
      "Número de variables 33\n",
      "2    0.662791\n",
      "1    0.302326\n",
      "0    0.034884\n",
      "dtype: float64\n",
      "Número de variables 34\n",
      "2    0.918605\n",
      "1    0.046512\n",
      "0    0.034884\n",
      "dtype: float64\n",
      "Número de variables 35\n",
      "2    0.918605\n",
      "1    0.046512\n",
      "0    0.034884\n",
      "dtype: float64\n",
      "Número de variables 36\n",
      "2    0.848837\n",
      "1    0.116279\n",
      "0    0.034884\n",
      "dtype: float64\n"
     ]
    }
   ],
   "source": [
    "#Retornar las agrupaciones a formar segpun la cantidad de variables \n",
    "for i in range(5,37): #mínimo 5 variables y maximo 36\n",
    "    print(\"Número de variables {}\\n{}\".format(i,k_means(3,i))) #Indicar tres clusteres para todas las variables "
   ]
  },
  {
   "cell_type": "markdown",
   "id": "c4094081",
   "metadata": {},
   "source": [
    "El acomulado de 33 variables crea un buen agrupamiento "
   ]
  },
  {
   "cell_type": "code",
   "execution_count": 44,
   "id": "174a3de3",
   "metadata": {},
   "outputs": [
    {
     "data": {
      "text/plain": [
       "Index(['PRODBR2', 'CONSMATE', 'CONSIN', 'CONSIN2', 'SALPEYTE', 'INVEBRTA',\n",
       "       'PERTOTAL', 'VALORCOM', 'VALORCX', 'VALORVEN', 'c3r19c3', 'c3r23c1',\n",
       "       'c3r15c1', 'c6r2c3', 'c6r3c3', 'c6r4c3', 'c7c2r4', 'c7c3r4', 'c3r17c1',\n",
       "       'c3r14c1', 'c3r41c1', 'c6r1c3', 'c7r17c2', 'c7r17c3', 'c7c3r12',\n",
       "       'c7r1c6', 'c7r5c6', 'c7r6c6', 'c3r42c1', 'c7r1c2', 'c7r5c2', 'c7r6c2',\n",
       "       'c3r16c1'],\n",
       "      dtype='object')"
      ]
     },
     "execution_count": 44,
     "metadata": {},
     "output_type": "execute_result"
    }
   ],
   "source": [
    "df.columns[:33]"
   ]
  },
  {
   "cell_type": "code",
   "execution_count": 53,
   "id": "2f711844",
   "metadata": {},
   "outputs": [],
   "source": [
    "#Variables que entran al k-means\n",
    "Variables = ['PRODBR2', 'CONSMATE', 'CONSIN', 'CONSIN2', 'SALPEYTE', 'INVEBRTA',\n",
    "       'PERTOTAL', 'VALORCOM', 'VALORCX', 'VALORVEN', 'c3r19c3', 'c3r23c1',\n",
    "       'c3r15c1', 'c6r2c3', 'c6r3c3', 'c6r4c3', 'c7c2r4', 'c7c3r4', 'c3r17c1',\n",
    "       'c3r14c1', 'c3r41c1', 'c6r1c3', 'c7r17c2', 'c7r17c3', 'c7c3r12',\n",
    "       'c7r1c6', 'c7r5c6', 'c7r6c6', 'c3r42c1', 'c7r1c2', 'c7r5c2', 'c7r6c2',\n",
    "       'c3r16c1']"
   ]
  },
  {
   "cell_type": "code",
   "execution_count": 58,
   "id": "13c7d140",
   "metadata": {},
   "outputs": [],
   "source": [
    "#DataFrame que guarda las variables que entran al agrupamiento\n",
    "df_n = df[Variables]"
   ]
  },
  {
   "cell_type": "markdown",
   "id": "8e093f48",
   "metadata": {},
   "source": [
    "## Normalización de datos"
   ]
  },
  {
   "cell_type": "code",
   "execution_count": 55,
   "id": "05c9c02f",
   "metadata": {},
   "outputs": [],
   "source": [
    "from sklearn import preprocessing\n",
    "scaler = preprocessing.StandardScaler()\n",
    "Df = scaler.fit_transform(df_n)"
   ]
  },
  {
   "cell_type": "markdown",
   "id": "e5535d8d",
   "metadata": {},
   "source": [
    "## Aplicación k-means"
   ]
  },
  {
   "cell_type": "code",
   "execution_count": 64,
   "id": "32850c83",
   "metadata": {},
   "outputs": [],
   "source": [
    "#Criterios del agrupamiento\n",
    "kmeans = KMeans(n_clusters = 3, init = 'k-means++', max_iter = 150, n_init=20, random_state=0) #ingregar parametros al algoritmo\n",
    "#Tres clusters, inicialización, cantidad de iteraciones y número de veces a ejecutar con diferentes centroide"
   ]
  },
  {
   "cell_type": "code",
   "execution_count": 65,
   "id": "6fe26515",
   "metadata": {},
   "outputs": [
    {
     "data": {
      "text/plain": [
       "KMeans(max_iter=150, n_clusters=3, n_init=20, random_state=0)"
      ]
     },
     "execution_count": 65,
     "metadata": {},
     "output_type": "execute_result"
    }
   ],
   "source": [
    "#Entrenamiento del modelo\n",
    "kmeans.fit(Df) "
   ]
  },
  {
   "cell_type": "code",
   "execution_count": 66,
   "id": "5b86fcdf",
   "metadata": {},
   "outputs": [
    {
     "data": {
      "text/plain": [
       "(array([[ 0.16965876,  0.40664658, -0.19143349,  0.36854966, -0.15630896,\n",
       "         -0.1784242 , -0.19947031,  0.35749753, -0.19227538,  0.17296374,\n",
       "          0.28604125, -0.1792935 , -0.10344999, -0.19097095, -0.10653017,\n",
       "          0.36554874, -0.10846523, -0.10846523,  0.06434742, -0.12871673,\n",
       "         -0.16659287,  0.50952506,  0.        ,  0.3968715 ,  0.76397117,\n",
       "         -0.17168979, -0.06842661, -0.17518726, -0.33345867, -0.1124361 ,\n",
       "          0.17050985, -0.1881729 ,  0.01963617],\n",
       "        [ 5.04162172,  4.66282684,  5.25077863,  4.73697291,  5.11538629,\n",
       "          5.25739889,  5.154937  ,  4.76091006,  5.25970359,  5.03753486,\n",
       "          4.80068005,  5.25957411,  5.19741372,  5.25986316,  4.93698241,\n",
       "          4.08188867, -0.10846523, -0.10846523,  3.65245564, -0.1652163 ,\n",
       "          5.24037089,  3.80460104,  0.        , -0.22391562, -0.35698046,\n",
       "          5.25275934,  5.21614187,  5.25899466,  0.59486796,  5.04402469,\n",
       "          3.34623612,  5.25985497,  1.95883596],\n",
       "        [-0.34273672, -0.43089985, -0.18903623, -0.41742474, -0.19793204,\n",
       "         -0.19531873, -0.18032602, -0.41364326, -0.18912194, -0.34402915,\n",
       "         -0.38314233, -0.19503669, -0.22636038, -0.18972535, -0.21124847,\n",
       "         -0.38157777,  0.05518406,  0.05518406, -0.22158596,  0.06740849,\n",
       "         -0.19981926, -0.4326571 ,  0.        , -0.16924407, -0.32968963,\n",
       "         -0.19814637, -0.24332164, -0.19687921,  0.12079511, -0.21418834,\n",
       "         -0.25389411, -0.19100122, -0.11205348]]),\n",
       " array([2, 2, 2, 2, 2, 2, 2, 2, 0, 2, 2, 2, 2, 2, 0, 2, 2, 2, 2, 2, 2, 2,\n",
       "        2, 2, 2, 0, 0, 0, 0, 0, 0, 2, 0, 0, 2, 2, 0, 0, 1, 0, 2, 0, 2, 2,\n",
       "        0, 2, 0, 2, 2, 2, 2, 2, 2, 2, 2, 2, 2, 2, 2, 2, 2, 1, 2, 1, 2, 2,\n",
       "        2, 2, 2, 2, 0, 2, 0, 0, 0, 0, 0, 0, 0, 2, 0, 0, 2, 2, 2, 2]))"
      ]
     },
     "execution_count": 66,
     "metadata": {},
     "output_type": "execute_result"
    }
   ],
   "source": [
    "#devolver las coordanadas de los centroides y las eitquetas de cada cluster calculado\n",
    "centroides, etiquetas = kmeans.cluster_centers_, kmeans.labels_\n",
    "centroides, etiquetas"
   ]
  },
  {
   "cell_type": "code",
   "execution_count": 67,
   "id": "6ee45c86",
   "metadata": {},
   "outputs": [
    {
     "data": {
      "text/plain": [
       "array([2, 2, 2, 2, 2, 2, 2, 2, 0, 2, 2, 2, 2, 2, 0, 2, 2, 2, 2, 2, 2, 2,\n",
       "       2, 2, 2, 0, 0, 0, 0, 0, 0, 2, 0, 0, 2, 2, 0, 0, 1, 0, 2, 0, 2, 2,\n",
       "       0, 2, 0, 2, 2, 2, 2, 2, 2, 2, 2, 2, 2, 2, 2, 2, 2, 1, 2, 1, 2, 2,\n",
       "       2, 2, 2, 2, 0, 2, 0, 0, 0, 0, 0, 0, 0, 2, 0, 0, 2, 2, 2, 2])"
      ]
     },
     "execution_count": 67,
     "metadata": {},
     "output_type": "execute_result"
    }
   ],
   "source": [
    "#determinar el cluster al que pertenece\n",
    "muestra_prediccion = kmeans.predict(Df)\n",
    "muestra_prediccion"
   ]
  },
  {
   "cell_type": "markdown",
   "id": "995f2519",
   "metadata": {},
   "source": [
    "## Graficar\n",
    "Se observa en dos componenetes reduciendo la dimensionalidad en el PCA"
   ]
  },
  {
   "cell_type": "code",
   "execution_count": 68,
   "id": "aef4de13",
   "metadata": {},
   "outputs": [],
   "source": [
    "#Aplicar reducción de dimensionalidad por medio de PCA\n",
    "modelo_pca = PCA(n_components = 2)\n",
    "modelo_pca.fit(Df)\n",
    "pca = modelo_pca.transform(Df)"
   ]
  },
  {
   "cell_type": "code",
   "execution_count": 69,
   "id": "1094dadc",
   "metadata": {},
   "outputs": [],
   "source": [
    "#Definición de centroides y clusteres\n",
    "centroides_pca = modelo_pca.transform(centroides)\n",
    "colores = ['blue', 'green', 'orange']\n",
    "colores_cluster = [colores[etiquetas[i]] for i in range (len(pca))]"
   ]
  },
  {
   "cell_type": "code",
   "execution_count": 74,
   "id": "0b3a6bb3",
   "metadata": {},
   "outputs": [
    {
     "data": {
      "image/png": "[encoded data removed]",
      "text/plain": [
       "<Figure size 504x432 with 1 Axes>"
      ]
     },
     "metadata": {
      "needs_background": "light"
     },
     "output_type": "display_data"
    }
   ],
   "source": [
    "#Grafica\n",
    "plt.figure(figsize=(7,6))\n",
    "plt.scatter(pca[:,0], pca[:,1], c = colores_cluster, marker='o', s=50, alpha=0.4)\n",
    "plt.scatter(centroides_pca[:,0], centroides_pca[:,1], marker='x', s=80, linewidths=3, c=colores)\n",
    "plt.xlabel(\"Componente 1\")\n",
    "plt.ylabel(\"Componente 2\")\n",
    "plt.title(\"Agrupamiento 2015\")\n",
    "plt.savefig(\"C:/Users/A00836554/Desktop/Data/PREPROCESAMIENTO/K-means/Figuras/Agrupamiento_2015.jpg\")"
   ]
  },
  {
   "cell_type": "code",
   "execution_count": 78,
   "id": "112dd11e",
   "metadata": {},
   "outputs": [
    {
     "name": "stderr",
     "output_type": "stream",
     "text": [
      "C:\\Users\\A00836~1\\AppData\\Local\\Temp/ipykernel_15316/3511303919.py:2: SettingWithCopyWarning: \n",
      "A value is trying to be set on a copy of a slice from a DataFrame.\n",
      "Try using .loc[row_indexer,col_indexer] = value instead\n",
      "\n",
      "See the caveats in the documentation: https://pandas.pydata.org/pandas-docs/stable/user_guide/indexing.html#returning-a-view-versus-a-copy\n",
      "  df_n['KMeans_Clusters'] = kmeans.labels_\n"
     ]
    }
   ],
   "source": [
    "#Agregar columna de etiquetas de cluster\n",
    "df_n['KMeans_Clusters'] = kmeans.labels_"
   ]
  },
  {
   "cell_type": "code",
   "execution_count": 80,
   "id": "1f1b68cc",
   "metadata": {},
   "outputs": [],
   "source": [
    "df_n.to_excel(\"C:/Users/A00836554/Desktop/Data/PREPROCESAMIENTO/K-means/cluster2015.xlsx\")"
   ]
  },
  {
   "cell_type": "markdown",
   "id": "2c76274e",
   "metadata": {},
   "source": [
    "## Análisis"
   ]
  },
  {
   "cell_type": "code",
   "execution_count": 89,
   "id": "b5650e85",
   "metadata": {},
   "outputs": [
    {
     "data": {
      "text/html": [
       "<div>\n",
       "<style scoped>\n",
       "    .dataframe tbody tr th:only-of-type {\n",
       "        vertical-align: middle;\n",
       "    }\n",
       "\n",
       "    .dataframe tbody tr th {\n",
       "        vertical-align: top;\n",
       "    }\n",
       "\n",
       "    .dataframe thead tr th {\n",
       "        text-align: left;\n",
       "    }\n",
       "\n",
       "    .dataframe thead tr:last-of-type th {\n",
       "        text-align: right;\n",
       "    }\n",
       "</style>\n",
       "<table border=\"1\" class=\"dataframe\">\n",
       "  <thead>\n",
       "    <tr>\n",
       "      <th></th>\n",
       "      <th colspan=\"4\" halign=\"left\">PRODBR2</th>\n",
       "      <th colspan=\"4\" halign=\"left\">CONSMATE</th>\n",
       "      <th colspan=\"2\" halign=\"left\">CONSIN</th>\n",
       "      <th>...</th>\n",
       "      <th colspan=\"2\" halign=\"left\">c7r5c2</th>\n",
       "      <th colspan=\"4\" halign=\"left\">c7r6c2</th>\n",
       "      <th colspan=\"4\" halign=\"left\">c3r16c1</th>\n",
       "    </tr>\n",
       "    <tr>\n",
       "      <th></th>\n",
       "      <th>count</th>\n",
       "      <th>max</th>\n",
       "      <th>min</th>\n",
       "      <th>mean</th>\n",
       "      <th>count</th>\n",
       "      <th>max</th>\n",
       "      <th>min</th>\n",
       "      <th>mean</th>\n",
       "      <th>count</th>\n",
       "      <th>max</th>\n",
       "      <th>...</th>\n",
       "      <th>min</th>\n",
       "      <th>mean</th>\n",
       "      <th>count</th>\n",
       "      <th>max</th>\n",
       "      <th>min</th>\n",
       "      <th>mean</th>\n",
       "      <th>count</th>\n",
       "      <th>max</th>\n",
       "      <th>min</th>\n",
       "      <th>mean</th>\n",
       "    </tr>\n",
       "    <tr>\n",
       "      <th>KMeans_Clusters</th>\n",
       "      <th></th>\n",
       "      <th></th>\n",
       "      <th></th>\n",
       "      <th></th>\n",
       "      <th></th>\n",
       "      <th></th>\n",
       "      <th></th>\n",
       "      <th></th>\n",
       "      <th></th>\n",
       "      <th></th>\n",
       "      <th></th>\n",
       "      <th></th>\n",
       "      <th></th>\n",
       "      <th></th>\n",
       "      <th></th>\n",
       "      <th></th>\n",
       "      <th></th>\n",
       "      <th></th>\n",
       "      <th></th>\n",
       "      <th></th>\n",
       "      <th></th>\n",
       "    </tr>\n",
       "  </thead>\n",
       "  <tbody>\n",
       "    <tr>\n",
       "      <th>0</th>\n",
       "      <td>26</td>\n",
       "      <td>1035984842</td>\n",
       "      <td>199696430</td>\n",
       "      <td>5.526029e+08</td>\n",
       "      <td>26</td>\n",
       "      <td>949353519</td>\n",
       "      <td>180706617</td>\n",
       "      <td>5.097492e+08</td>\n",
       "      <td>26</td>\n",
       "      <td>2033992</td>\n",
       "      <td>...</td>\n",
       "      <td>0</td>\n",
       "      <td>1.236982e+06</td>\n",
       "      <td>26</td>\n",
       "      <td>1607222</td>\n",
       "      <td>0</td>\n",
       "      <td>2.898228e+05</td>\n",
       "      <td>26</td>\n",
       "      <td>1825669</td>\n",
       "      <td>0</td>\n",
       "      <td>2.463024e+05</td>\n",
       "    </tr>\n",
       "    <tr>\n",
       "      <th>1</th>\n",
       "      <td>3</td>\n",
       "      <td>5366718950</td>\n",
       "      <td>5366718950</td>\n",
       "      <td>5.366719e+09</td>\n",
       "      <td>3</td>\n",
       "      <td>2902178337</td>\n",
       "      <td>2902178337</td>\n",
       "      <td>2.902178e+09</td>\n",
       "      <td>3</td>\n",
       "      <td>224529484</td>\n",
       "      <td>...</td>\n",
       "      <td>9931350</td>\n",
       "      <td>9.931350e+06</td>\n",
       "      <td>3</td>\n",
       "      <td>407159776</td>\n",
       "      <td>407159776</td>\n",
       "      <td>4.071598e+08</td>\n",
       "      <td>3</td>\n",
       "      <td>1096525</td>\n",
       "      <td>1096525</td>\n",
       "      <td>1.096525e+06</td>\n",
       "    </tr>\n",
       "    <tr>\n",
       "      <th>2</th>\n",
       "      <td>57</td>\n",
       "      <td>240725247</td>\n",
       "      <td>433370</td>\n",
       "      <td>4.629130e+07</td>\n",
       "      <td>57</td>\n",
       "      <td>213799585</td>\n",
       "      <td>0</td>\n",
       "      <td>3.895840e+07</td>\n",
       "      <td>57</td>\n",
       "      <td>22152582</td>\n",
       "      <td>...</td>\n",
       "      <td>0</td>\n",
       "      <td>7.506702e+04</td>\n",
       "      <td>57</td>\n",
       "      <td>2000427</td>\n",
       "      <td>0</td>\n",
       "      <td>7.859821e+04</td>\n",
       "      <td>57</td>\n",
       "      <td>2347871</td>\n",
       "      <td>0</td>\n",
       "      <td>1.885644e+05</td>\n",
       "    </tr>\n",
       "  </tbody>\n",
       "</table>\n",
       "<p>3 rows × 132 columns</p>\n",
       "</div>"
      ],
      "text/plain": [
       "                PRODBR2                                       CONSMATE  \\\n",
       "                  count         max         min          mean    count   \n",
       "KMeans_Clusters                                                          \n",
       "0                    26  1035984842   199696430  5.526029e+08       26   \n",
       "1                     3  5366718950  5366718950  5.366719e+09        3   \n",
       "2                    57   240725247      433370  4.629130e+07       57   \n",
       "\n",
       "                                                      CONSIN             ...  \\\n",
       "                        max         min          mean  count        max  ...   \n",
       "KMeans_Clusters                                                          ...   \n",
       "0                 949353519   180706617  5.097492e+08     26    2033992  ...   \n",
       "1                2902178337  2902178337  2.902178e+09      3  224529484  ...   \n",
       "2                 213799585           0  3.895840e+07     57   22152582  ...   \n",
       "\n",
       "                  c7r5c2               c7r6c2                        \\\n",
       "                     min          mean  count        max        min   \n",
       "KMeans_Clusters                                                       \n",
       "0                      0  1.236982e+06     26    1607222          0   \n",
       "1                9931350  9.931350e+06      3  407159776  407159776   \n",
       "2                      0  7.506702e+04     57    2000427          0   \n",
       "\n",
       "                              c3r16c1                                  \n",
       "                         mean   count      max      min          mean  \n",
       "KMeans_Clusters                                                        \n",
       "0                2.898228e+05      26  1825669        0  2.463024e+05  \n",
       "1                4.071598e+08       3  1096525  1096525  1.096525e+06  \n",
       "2                7.859821e+04      57  2347871        0  1.885644e+05  \n",
       "\n",
       "[3 rows x 132 columns]"
      ]
     },
     "execution_count": 89,
     "metadata": {},
     "output_type": "execute_result"
    }
   ],
   "source": [
    "df_n.groupby('KMeans_Clusters').agg([\"count\", \"max\", \"min\", \"mean\"])"
   ]
  },
  {
   "cell_type": "code",
   "execution_count": 91,
   "id": "e5a696c9",
   "metadata": {},
   "outputs": [],
   "source": [
    "df_n.groupby('KMeans_Clusters').agg([\"count\", \"max\", \"min\", \"mean\"]).to_excel(\"C:/Users/A00836554/Desktop/Data/PREPROCESAMIENTO/K-means/gruopby2015.xlsx\")"
   ]
  }
 ],
 "metadata": {
  "kernelspec": {
   "display_name": "Python 3 (ipykernel)",
   "language": "python",
   "name": "python3"
  },
  "language_info": {
   "codemirror_mode": {
    "name": "ipython",
    "version": 3
   },
   "file_extension": ".py",
   "mimetype": "text/x-python",
   "name": "python",
   "nbconvert_exporter": "python",
   "pygments_lexer": "ipython3",
   "version": "3.9.7"
  }
 },
 "nbformat": 4,
 "nbformat_minor": 5
}
